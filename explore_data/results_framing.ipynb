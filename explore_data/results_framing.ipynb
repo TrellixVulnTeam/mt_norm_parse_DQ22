{
 "cells": [
  {
   "cell_type": "code",
   "execution_count": 62,
   "metadata": {},
   "outputs": [
    {
     "name": "stdout",
     "output_type": "stream",
     "text": [
      "The autoreload extension is already loaded. To reload it, use:\n",
      "  %reload_ext autoreload\n"
     ]
    }
   ],
   "source": [
    "%load_ext autoreload\n",
    "%autoreload 2\n",
    "import matplotlib.pyplot as plt\n",
    "import pandas as pd\n",
    "import sys\n",
    "sys.path.insert(0,\"..\")\n",
    "from explore_data.query_reports import get_field\n"
   ]
  },
  {
   "cell_type": "code",
   "execution_count": 118,
   "metadata": {},
   "outputs": [],
   "source": [
    "report_dir = \"../paper_results/conll/report/9357089-B-report-enriched.json\""
   ]
  },
  {
   "cell_type": "code",
   "execution_count": 119,
   "metadata": {},
   "outputs": [
    {
     "name": "stdout",
     "output_type": "stream",
     "text": [
      "FIELD score is 0.7456647398843931 for keys {'layer_wise_attention': '0', 'tokenize_and_bpe': '0', 'model_full_name': '9357089-B-da10d-9357089-B-model_2', 'data': 'lex_norm2015_split_dev_2-normalize', 'metric': 'f1-normalize', 'subsample': 'rates'} (1 reports found)\n"
     ]
    },
    {
     "ename": "ValueError",
     "evalue": "too many values to unpack (expected 2)",
     "output_type": "error",
     "traceback": [
      "\u001b[0;31m---------------------------------------------------------------------------\u001b[0m",
      "\u001b[0;31mValueError\u001b[0m                                Traceback (most recent call last)",
      "\u001b[0;32m<ipython-input-119-db6c711e010d>\u001b[0m in \u001b[0;36m<module>\u001b[0;34m\u001b[0m\n\u001b[1;32m      4\u001b[0m                           \u001b[0;34m\"data\"\u001b[0m\u001b[0;34m:\u001b[0m\u001b[0;34m\"lex_norm2015_split_dev_2-normalize\"\u001b[0m\u001b[0;34m\u001b[0m\u001b[0m\n\u001b[1;32m      5\u001b[0m                   \u001b[0;31m# \"masking_strategy\": \"['norm_mask_variable','0']\"\u001b[0m\u001b[0;34m\u001b[0m\u001b[0;34m\u001b[0m\u001b[0m\n\u001b[0;32m----> 6\u001b[0;31m                   }, field=\"score\", report_dir=report_dir)\n\u001b[0m",
      "\u001b[0;31mValueError\u001b[0m: too many values to unpack (expected 2)"
     ]
    }
   ],
   "source": [
    "a, b = get_field(key_dic={\"model_full_name\":\"9357089-B-da10d-9357089-B-model_2\",\n",
    "                          \"subsample\":\"rates\",\"metric\":\"f1-normalize\", \n",
    "                           \"tokenize_and_bpe\":\"0\",\"layer_wise_attention\":\"0\",\n",
    "                          \"data\":\"lex_norm2015_split_dev_2-normalize\"\n",
    "                  # \"masking_strategy\": \"['norm_mask_variable','0']\"\n",
    "                  }, field=\"score\", report_dir=report_dir)"
   ]
  },
  {
   "cell_type": "code",
   "execution_count": 49,
   "metadata": {},
   "outputs": [
    {
     "name": "stdout",
     "output_type": "stream",
     "text": [
      "FIELD score is 0.7602339181286549 for keys {'masking_strategy': \"['norm_mask_variable', '0']\", 'data': 'lex_norm2015_split_dev_2-normalize', 'tokenize_and_bpe': '0', 'layer_wise_attention': '0', 'metric': 'accuracy-exact-normalize', 'subsample': 'OOV-n-NEED_NORM'} (1 reports found)\n"
     ]
    },
    {
     "data": {
      "text/plain": [
       "0.7602339181286549"
      ]
     },
     "execution_count": 49,
     "metadata": {},
     "output_type": "execute_result"
    }
   ],
   "source": [
    "a, report, n_reports = get_field(key_dic={#\"model_full_name\":\"9357089-B-da10d-9357089-B-model_2\", \n",
    "                         \"subsample\":\"OOV-n-NEED_NORM\",\n",
    "                         \"metric\":\"accuracy-exact-normalize\", \n",
    "                         \"tokenize_and_bpe\":\"0\",\"layer_wise_attention\":\"0\",\n",
    "                         \"data\":\"lex_norm2015_split_dev_2-normalize\",\n",
    "                         \"masking_strategy\": \"['norm_mask_variable', '0']\"\n",
    "                  }, field=\"score\", report_dir=report_dir)\n",
    "a"
   ]
  },
  {
   "cell_type": "code",
   "execution_count": 123,
   "metadata": {},
   "outputs": [],
   "source": [
    "def get_pandas(score_tup_ls, shared_parameter_dic, analyse, name_ls, report_dir):\n",
    "    \"\"\"\n",
    "    design to provide pandas for comparing only 2 models so far\n",
    "    \"\"\"\n",
    "    to_analyse = list(analyse.keys())[0]\n",
    "    pandas_ls = []\n",
    "    assert len(name_ls)==len(analyse[to_analyse])\n",
    "    for score in score_tup_ls: \n",
    "        for val, name in zip(analyse[to_analyse], name_ls):\n",
    "            shared_parameter_dic.update({to_analyse:val})\n",
    "            shared_parameter_dic.update({\"subsample\":score[1], \"metric\":score[0]})\n",
    "            score_value, report, n_reports = get_field(key_dic=shared_parameter_dic,\n",
    "                                                       field=\"score\",\n",
    "                                                       report_dir=report_dir)\n",
    "            score_name = score[0]\n",
    "            if score_name == \"accuracy-exact-normalize\":\n",
    "                score_name = \"recall-\"+score[1][:-12]\n",
    "            elif score_name==\"f1-normalize\":\n",
    "                score_name = \"F1\"\n",
    "            #pandas_ls.append([name, score_name, float(\"{:0.4f}\".format(score_value))*100])\n",
    "            pandas_ls.append([score_name, name, float(\"{:0.4f}\".format(score_value))*100])\n",
    "            assert n_reports==1\n",
    "    #cols = [\"model\", \"metric\", \"score\"]\n",
    "    cols = [ \"metric\",\"model\", \"score\"]\n",
    "    return pd.DataFrame(pandas_ls, columns=cols), cols"
   ]
  },
  {
   "cell_type": "code",
   "execution_count": 128,
   "metadata": {},
   "outputs": [
    {
     "name": "stdout",
     "output_type": "stream",
     "text": [
      "FIELD score is 0.7377972465581978 for keys {'masking_strategy': \"['norm_mask_variable', '0']\", 'data': 'lex_norm2015_test-normalize', 'tokenize_and_bpe': '1', 'layer_wise_attention': '0', 'metric': 'accuracy-exact-normalize', 'subsample': 'OOV-n-NEED_NORM'} (1 reports found)\n",
      "FIELD score is 0.7528160200250313 for keys {'masking_strategy': '0', 'data': 'lex_norm2015_test-normalize', 'tokenize_and_bpe': '1', 'layer_wise_attention': '0', 'metric': 'accuracy-exact-normalize', 'subsample': 'OOV-n-NEED_NORM'} (1 reports found)\n",
      "FIELD score is 0.8512696493349455 for keys {'masking_strategy': \"['norm_mask_variable', '0']\", 'data': 'lex_norm2015_test-normalize', 'tokenize_and_bpe': '1', 'layer_wise_attention': '0', 'metric': 'accuracy-exact-normalize', 'subsample': 'InV-n-NEED_NORM'} (1 reports found)\n",
      "FIELD score is 0.8681983071342201 for keys {'masking_strategy': '0', 'data': 'lex_norm2015_test-normalize', 'tokenize_and_bpe': '1', 'layer_wise_attention': '0', 'metric': 'accuracy-exact-normalize', 'subsample': 'InV-n-NEED_NORM'} (1 reports found)\n",
      "FIELD score is 0.7928421052631579 for keys {'masking_strategy': \"['norm_mask_variable', '0']\", 'data': 'lex_norm2015_test-normalize', 'tokenize_and_bpe': '1', 'layer_wise_attention': '0', 'metric': 'f1-normalize', 'subsample': 'rates'} (1 reports found)\n",
      "FIELD score is 0.7595887702649269 for keys {'masking_strategy': '0', 'data': 'lex_norm2015_test-normalize', 'tokenize_and_bpe': '1', 'layer_wise_attention': '0', 'metric': 'f1-normalize', 'subsample': 'rates'} (1 reports found)\n"
     ]
    },
    {
     "data": {
      "image/png": "[encoded data removed]",
      "text/plain": [
       "<Figure size 432x288 with 1 Axes>"
      ]
     },
     "metadata": {
      "needs_background": "light"
     },
     "output_type": "display_data"
    }
   ],
   "source": [
    "scores = [(\"accuracy-exact-normalize\",\"OOV-n-NEED_NORM\"),\n",
    "          (\"accuracy-exact-normalize\",\"InV-n-NEED_NORM\"),\n",
    "          (\"f1-normalize\",\"rates\")]\n",
    "shared_parameter_dic = {\"layer_wise_attention\":\"0\", \n",
    "                        #\"data\":\"lex_norm2015_split_dev_2-normalize\", \n",
    "                        \"data\":\"lex_norm2015_test-normalize\", \n",
    "                        \"tokenize_and_bpe\": \"1\"\n",
    "                       }\n",
    "analyse = {\"masking_strategy\":[\"['norm_mask_variable', '0']\",\"0\"]}\n",
    "\n",
    "pd_frame, cols =get_pandas(score_tup_ls=scores, shared_parameter_dic=shared_parameter_dic,\n",
    "           name_ls=[\"noisy focused\", \"standart\"],\n",
    "           analyse=analyse, report_dir=report_dir)\n",
    "\n",
    "pd_frame.pivot(\"metric\",\"model\",\"score\").plot(kind='bar', color=[\"b\",\"r\"])\n",
    "plt.title(\"Fine Tuning Strategy Comparison\")\n",
    "plt.ylim(70,90)\n",
    "plt.legend(loc=2, prop={'size': 9.2})\n",
    "plt.xticks( rotation=0)\n",
    "\n",
    "plt.show()\n",
    "#plt.savefig(format=\"pdf\", fname=\"../paper_results/conll/plot/alignement.pdf\")"
   ]
  },
  {
   "cell_type": "code",
   "execution_count": 129,
   "metadata": {
    "scrolled": true
   },
   "outputs": [
    {
     "data": {
      "text/html": [
       "<div>\n",
       "<style scoped>\n",
       "    .dataframe tbody tr th:only-of-type {\n",
       "        vertical-align: middle;\n",
       "    }\n",
       "\n",
       "    .dataframe tbody tr th {\n",
       "        vertical-align: top;\n",
       "    }\n",
       "\n",
       "    .dataframe thead th {\n",
       "        text-align: right;\n",
       "    }\n",
       "</style>\n",
       "<table border=\"1\" class=\"dataframe\">\n",
       "  <thead>\n",
       "    <tr style=\"text-align: right;\">\n",
       "      <th></th>\n",
       "      <th>metric</th>\n",
       "      <th>model</th>\n",
       "      <th>score</th>\n",
       "    </tr>\n",
       "  </thead>\n",
       "  <tbody>\n",
       "    <tr>\n",
       "      <th>1</th>\n",
       "      <td>recall-OOV</td>\n",
       "      <td>standart</td>\n",
       "      <td>75.28</td>\n",
       "    </tr>\n",
       "    <tr>\n",
       "      <th>2</th>\n",
       "      <td>recall-InV</td>\n",
       "      <td>noisy focused</td>\n",
       "      <td>85.13</td>\n",
       "    </tr>\n",
       "    <tr>\n",
       "      <th>3</th>\n",
       "      <td>recall-InV</td>\n",
       "      <td>standart</td>\n",
       "      <td>86.82</td>\n",
       "    </tr>\n",
       "    <tr>\n",
       "      <th>4</th>\n",
       "      <td>F1</td>\n",
       "      <td>noisy focused</td>\n",
       "      <td>79.28</td>\n",
       "    </tr>\n",
       "    <tr>\n",
       "      <th>5</th>\n",
       "      <td>F1</td>\n",
       "      <td>standart</td>\n",
       "      <td>75.96</td>\n",
       "    </tr>\n",
       "  </tbody>\n",
       "</table>\n",
       "</div>"
      ],
      "text/plain": [
       "       metric          model  score\n",
       "1  recall-OOV       standart  75.28\n",
       "2  recall-InV  noisy focused  85.13\n",
       "3  recall-InV       standart  86.82\n",
       "4          F1  noisy focused  79.28\n",
       "5          F1       standart  75.96"
      ]
     },
     "execution_count": 129,
     "metadata": {},
     "output_type": "execute_result"
    }
   ],
   "source": [
    "pd_frame.drop(0)"
   ]
  },
  {
   "cell_type": "code",
   "execution_count": null,
   "metadata": {},
   "outputs": [],
   "source": [
    "noisy focused\tstandart\n",
    "79.28\t75.96"
   ]
  }
 ],
 "metadata": {
  "kernelspec": {
   "display_name": "Python 3",
   "language": "python",
   "name": "python3"
  },
  "language_info": {
   "codemirror_mode": {
    "name": "ipython",
    "version": 3
   },
   "file_extension": ".py",
   "mimetype": "text/x-python",
   "name": "python",
   "nbconvert_exporter": "python",
   "pygments_lexer": "ipython3",
   "version": "3.5.5"
  }
 },
 "nbformat": 4,
 "nbformat_minor": 2
}
