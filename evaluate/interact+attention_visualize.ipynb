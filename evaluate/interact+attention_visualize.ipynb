{
 "cells": [
  {
   "cell_type": "code",
   "execution_count": 1,
   "metadata": {},
   "outputs": [],
   "source": [
    "%load_ext autoreload\n",
    "%autoreload 2\n",
    "%matplotlib inline  \n",
    "import sys\n",
    "sys.path.insert(0,\"..\")\n",
    "from model.sequence_prediction import greedy_decode_batch, decode_seq_str, decode_interacively\n",
    "import pdb\n",
    "from model.loss import LossCompute\n",
    "import os\n",
    "from io_.info_print import printing\n",
    "from model.seq2seq import LexNormalizer\n",
    "from model.generator import Generator\n",
    "from evaluate.interact import interact\n",
    "MAX_LEN = 20\n",
    "script_dir = \".\""
   ]
  },
  {
   "cell_type": "code",
   "execution_count": 2,
   "metadata": {},
   "outputs": [],
   "source": [
    "#model_folder_starts_with = \"f2f2-batchXdropout_char0.1-to_char_src-1_dir_sent-10_batch_size-model_18_aa04\"\n",
    "#model_folder_starts_with = \"f178-DROPOUT_EVEN_INCREASE-0.1-to_sent+word+bridge_out-model_3_046c\"\n",
    "#model_folder_starts_with = \"8ce6b-extend_ep-get_True-attention_simplifiedXauxXdropout0.1_scale_aux-True_aux-0.1do_char_dec-True_char_src_atten-model_14_ad6c\"\n",
    "#model_folder_starts_with = \"a5c77\"\n",
    "#model_folder_starts_with = \"fef8-new_data-batchXdropout_char0-to_char_src-1_dir_sent-10_batch_size-model_2_51a5\"\n",
    "#model_folder_starts_with = \"e3900-liu-attention+unrolling0.2-to_char_src-1_dir_sent-15_batch-dir_word_src_1-unrolling_word_True-char_src_attention_False-model_2_14c2\"\n",
    "#model_folder_starts_with = \"e3900-liu-attention+unrolling0.2-to_char_src-1_dir_sent-15_batch-dir_word_src_1-unrolling_word_True-char_src_attention_True-model_3_1a3\"\n",
    "#model_folder_starts_with =\"8ce6b\"\n",
    "#model_folder_starts_with = \"8e628\"\n",
    "#model_folder_starts_with = \"84736\"\n",
    "#model_folder_starts_with = \"84736-84736-SENT_context-get_True-attention_simplifiedXdrop_out_charXdir_word1dir_word-False_aux-0do_char_dec-True_char_src_atten-model_10_b59b\"\n",
    "#model_folder_starts_with = \"84736-84736-SENT_context-get_True-attention_simplifiedXdrop_out_charXdir_word1dir_word-False_aux-0do_char_dec-False_char_src_atten-model_9_bb70\"\n",
    "model_folder_starts_with = \"b9e49-aux_report+dense+ponderatipn+no_bucketing100-dense_dim_auxilliary0.001weight_binary_loss0.2-to_char_src-1_dir_sent-10_batch-dir_word_src_1-unrolling_word_True-char_src_attention_False-model_9_0f05\"\n",
    "#model_folder_starts_with = \"97068_rioc-b91d7-aux-again-biggerREPLICATE-replicate1-2dir_word-None_aux-model_19_fb56\"\n",
    "#model_folder_starts_with = \"97079_rioc-ef365-ATTbest-scale-2-True-25dir_word_encoder-all_context-att2-model_1_cade\"\n",
    "#model_folder_starts_with = \"97077_rioc-ee386-REP_-replicate1-1dir-scale_1-model_15_f19e\"\n",
    "#model_folder_starts_with = \"97147_rioc-6ed16-ATTCONTEXT-with_att-dir_2-X-dropout_bridge0.1-context_word-model_4_76a1\"\n",
    "#model_folder_starts_with = \"97147_rioc-6ed16-ATTCONTEXT-with_att-dir_2-X-dropout_bridge0.1-context_sent-model_2_7d92\"\n",
    "#model_folder_starts_with = \"97147_rioc-6ed16-ATTCONTEXT-with_att-dir_2-X-dropout_bridge0.1-context_word-model_4_76a1\"\n",
    "#model_folder_starts_with = \"97184_rioc-0cc46-ATTstandart_passing-with_att-dir_2-X-context_all-stable_decoding_state-init_context_decoder_False-model_4_2ffa\"\n",
    "#model_folder_starts_with = \"97221_rioc-3e4f2-ATTattentionXauxXcont-big-teacher-with_att-dir_2-X-context_word-stable_decod-init_con_False-teacher_forceprop10_True-model_4_c551\"\n",
    "#model_folder_starts_with = \"97221_rioc-3e4f2-ATTattentionXauxXcont-big-teacher-with_att-dir_2-X-context_all-stable_decod-init_con_False-teacher_forceprop10_True-model_2_7673\"\n",
    "#model_folder_starts_with = \"97555_rioc--ATTword_vs_char-scale2-sha_context_all-auxnorm_not_norm_True-word_de_False-model_6_c253-folder\"\n",
    "#model_folder_starts_with = \"97555_rioc--ATTword_vs_char-scale2-sha_context_all-auxnorm_not_norm_True-word_de_True-model_5_72ee-folder\"\n",
    "model_folder_starts_with = \"97184_rioc-0cc46-ATTstandart_passing-with_att-dir_2-X-context_all-stable_decoding_state-init_context_decoder_False-model_4_2ffa\"\n",
    "model_folder_starts_with = \"97679_rioc--ATTmodel_10-model_10_b22f-folder\"\n",
    "model_folder_starts_with = \"4e128-WARMUP-unrolling-False0-model_1-model_1_1660-folder\""
   ]
  },
  {
   "cell_type": "code",
   "execution_count": 3,
   "metadata": {},
   "outputs": [],
   "source": [
    "# list all models folder that starts with model_folder_starts_with\n",
    "list_all_dir = os.listdir(\"../checkpoints/\")\n",
    "list_ = [dir_ for dir_ in list_all_dir if dir_.startswith(model_folder_starts_with) and not dir_.endswith(\"log\") and not dir_.endswith(\"summary\")]"
   ]
  },
  {
   "cell_type": "markdown",
   "metadata": {},
   "source": [
    "### Model to interact with \n",
    "\n",
    "#### Former models : trained on Liu only , source added as concatanation of word and sentence level as h_0 of decoder , batch size = 10 , small drop out , \n",
    "\n",
    "- f2f2-batchXdropout_char0.1-to_char_src-1_dir_sent-10_batch_size-model_18_aa04 : very bad at interacting (NB ; pb of eval)\n",
    "- f178 also good model trained on liu only \n",
    "- 8e628 : attention ; no aux (no bucket , get_batch False ) :  - attention degrades abit the results (still feedin char embedding also)\n",
    "- e390 + same 24f94 goo : \n",
    "    - best is e3900-liu-attention+unrolling0.2-to_char_src-1_dir_sent-15_batch-dir_word_src_1-unrolling_word_True-char_src_attention_False-model_2_14c2 \n",
    "    - same with attentin but lame : e3900-liu-attention+unrolling0.2-to_char_src-1_dir_sent-15_batch-dir_word_src_1-unrolling_word_True-char_src_attention_True-model_3_1a3f (have to do some code for reloading and visulizing !)\n",
    "\n",
    "#### New data \n",
    "- fef8_new_data : \n",
    "- mixed data+ aix test :  8d9a0 + b9e49 to compare bucketing impact at train time \n",
    "    - /Users/bemuller/Documents/Work/INRIA/dev/mt_norm_parse/reports/aux_report+dense+ponderatipn+bucketing-last-report-data.html or file:///Users/bemuller/Documents/Work/INRIA/dev/mt_norm_parse/reports/aux_report+dense+ponderatipn+bucketing-last-report-norm.html\n",
    "    - /Users/bemuller/Documents/Work/INRIA/dev/mt_norm_parse/reports/aux_report+dense+ponderatipn+no_bucketing-last-report-data.html or file:///Users/bemuller/Documents/Work/INRIA/dev/mt_norm_parse/reports/8d9a0-auxiililary_true_false.html\n",
    "    \n",
    "    \n",
    "- Auxilliary tuning : best model : b9e49-aux_report+dense+ponderatipn+no_bucketing100-dense_dim_auxilliary0.001weight_binary_loss0.2-to_char_src-1_dir_sent-10_batch-dir_word_src_1-unrolling_word_True-char_src_attention_False-model_9_0f05-folderfile:///Users/bemuller/Documents/Work/INRIA/dev/mt_norm_parse/reports/aux_report+dense+ponderatipn+no_bucketing-last-report-enriched-auxilliary_task_norm_not_norm-dense_dim_view.html\n",
    "-\n",
    "\n",
    "#### Last two ablations with extending epoch + mix data + ablation on auxilliary task ponderation + attention or not  \n",
    "\n",
    "- 8ce6b-extend_ep... \n",
    "    - super lame attention model (from ablation with all context)\n",
    "    - the other one a bit better   \n",
    "- a5c77 a bit better but still : no attention much better : cf. plot \n",
    "\n",
    "#### Smaller model + liu only \n",
    "- 84736 smaller model: still waiting for models : attention not helping \n",
    "\n",
    "NB : attention makes training 10 times slower  "
   ]
  },
  {
   "cell_type": "code",
   "execution_count": 4,
   "metadata": {},
   "outputs": [],
   "source": [
    "#!open /Users/bemuller/Documents/Work/INRIA/dev/mt_norm_parse/reports/ablation_DROPOUT_analysis.html # f178\n",
    "#!open /Users/bemuller/Documents/Work/INRIA/dev/mt_norm_parse/reports/ablation_DROPOUT_analysis_norm_view.html #f178\n",
    "#!open /Users/bemuller/Documents/Work/INRIA/dev/mt_norm_parse/reports/ablation_DROPOUT_analysis_2.html # f178 + aaad \n",
    "\n",
    "#!open /Users/bemuller/Documents/Work/INRIA/dev/mt_norm_parse/reports/f2f2-batchXdropout_char-summary-norm_view.html\n",
    "#!open /Users/bemuller/Documents/Work/INRIA/dev/mt_norm_parse/reports/f2f2-batchXdropout_char-summary-data_view.html\n",
    "# -- \n",
    "#!open /Users/bemuller/Documents/Work/INRIA/dev/mt_norm_parse/reports/f2f2_best+01880_reproduction-VAL_TRUE.html\n",
    "##file:///Users/bemuller/Documents/Work/INRIA/dev/mt_norm_parse/reports/f2f2-iterate+new_data-norm_view.html (different results with below ? get_batch due ?? )\n",
    "##/Users/bemuller/Documents/Work/INRIA/dev/mt_norm_parse/reports/f2f2-batchXdropout_char-summary-norm_view.html \n",
    "## diffent from file:///Users/bemuller/Documents/Work/INRIA/dev/mt_norm_parse/reports/f2f2_best+01880_reproduction-VAL_TRUE.html val True \n",
    "#--\n",
    "\n",
    "#!open /Users/bemuller/Documents/Work/INRIA/dev/mt_norm_parse/reports/liu-attention+unrolling-more-param.html #e390\n",
    "#!open file:///Users/bemuller/Documents/Work/INRIA/dev/mt_norm_parse/reports/e390_best+24f9d-VAL_FALSE.html (e390 with Vale False 10 points above!! )\n",
    "\n",
    "#!open /Users/bemuller/Documents/Work/INRIA/dev/mt_norm_parse/reports/fef8_new_data.html (very good ?)\n",
    "\n",
    "#!open /Users/bemuller/Documents/Work/INRIA/dev/mt_norm_parse/reports/extend_ep-SENT_context-get_True-attention_simplifiedXauxXdropout-last+bucket_False_eval-get_batch_False.html\n",
    "\n",
    "#!open /Users/bemuller/Documents/Work/INRIA/dev/mt_norm_parse/reports/8ce6b-extend_ep-get_True-attention_simplifiedXauxXdropout.html\n",
    "\n",
    "#!open /Users/bemuller/Documents/Work/INRIA/dev/mt_norm_parse/reports/8e628-no_bucketing-get_batch_False-train-attention-last+bucket_False_eval-get_batch_False-report.json.html"
   ]
  },
  {
   "cell_type": "code",
   "execution_count": 5,
   "metadata": {
    "scrolled": false
   },
   "outputs": [
    {
     "name": "stdout",
     "output_type": "stream",
     "text": [
      "\n",
      "\n",
      "--------------------------------Interatcing with new model--------------------------------\n",
      " 4e128-WARMUP-unrolling-False0-model_1-model_1_1660 \n",
      "\n",
      "\n",
      "Loading dictionary from ./../checkpoints/4e128-WARMUP-unrolling-False0-model_1-model_1_1660-folder/dictionaries \n",
      "Character vocabulary is 57 length\n",
      "Loading model with argument {'word_voc_input_size': 48, 'encoder_arch': {'word_embedding_dim': 100, 'word_embedding_projected_dim': 50, 'word_embed': True, 'dropout_word_encoder_cell': 0.0, 'cell_word': 'LSTM', 'dir_sent_encoder': 2, 'drop_out_word_encoder_out': 0, 'n_layers_word_encoder': 1, 'n_layers_sent_cell': 2, 'cell_sentence': 'LSTM', 'drop_out_sent_encoder_out': 0, 'dropout_sent_encoder_cell': 0.0, 'word_embed_init': None, 'dir_word_encoder': 2}, 'weight_binary_loss': 0.01, 'hidden_size_decoder': 50, 'ponderation_normalize_loss': 1, 'decoder_arch': {'drop_out_bridge': 0, 'dense_dim_word_pred': None, 'drop_out_char_embedding_decoder': 0, 'stable_decoding_state': True, 'word_decoding': False, 'dense_dim_word_pred_3': None, 'init_context_decoder': False, 'unrolling_word': True, 'cell_word': 'LSTM', 'dense_dim_word_pred_2': None, 'char_decoding': True, 'teacher_force': False, 'drop_out_word_decoder_cell': 0.0, 'dir_word': 'uni', 'cell_sentence': 'none', 'char_src_attention': False}, 'weight_pos_loss': 0.01, 'shared_context': 'all', 'tasks_schedule_policy': None, 'word_voc_output_size': None, 'gradient_clipping': None, 'auxilliary_arch': {'auxilliary_task_norm_not_norm-dense_dim': None, 'dense_dim_auxilliary_pos_2': None, 'auxilliary_task_norm_not_norm': True, 'weight_binary_loss': 1, 'auxilliary_task_norm_not_norm-dense_dim_2': None, 'auxilliary_task_pos': True, 'dense_dim_auxilliary_pos': 100}, 'extend_vocab_with_test': True, 'hidden_size_encoder': 100, 'n_trainable_parameters': 82695, 'lr_policy': 'lr_constant', 'hidden_size_sent_encoder': 20, 'voc_size': 57, 'symbolic_root': True, 'char_embedding_dim': 10, 'output_dim': 15, 'batch_size': 20, 'lr': 0.05, 'symbolic_end': True}\n",
      "Model arguments are {'hyperparameters': {'word_voc_input_size': 48, 'encoder_arch': {'word_embedding_dim': 100, 'word_embedding_projected_dim': 50, 'word_embed': True, 'dropout_word_encoder_cell': 0.0, 'cell_word': 'LSTM', 'dir_sent_encoder': 2, 'drop_out_word_encoder_out': 0, 'n_layers_word_encoder': 1, 'n_layers_sent_cell': 2, 'cell_sentence': 'LSTM', 'drop_out_sent_encoder_out': 0, 'dropout_sent_encoder_cell': 0.0, 'word_embed_init': None, 'dir_word_encoder': 2}, 'weight_binary_loss': 0.01, 'hidden_size_decoder': 50, 'ponderation_normalize_loss': 1, 'decoder_arch': {'drop_out_bridge': 0, 'dense_dim_word_pred': None, 'drop_out_char_embedding_decoder': 0, 'stable_decoding_state': True, 'word_decoding': False, 'dense_dim_word_pred_3': None, 'init_context_decoder': False, 'unrolling_word': True, 'cell_word': 'LSTM', 'dense_dim_word_pred_2': None, 'char_decoding': True, 'teacher_force': False, 'drop_out_word_decoder_cell': 0.0, 'dir_word': 'uni', 'cell_sentence': 'none', 'char_src_attention': False}, 'weight_pos_loss': 0.01, 'shared_context': 'all', 'tasks_schedule_policy': None, 'word_voc_output_size': None, 'gradient_clipping': None, 'auxilliary_arch': {'auxilliary_task_norm_not_norm-dense_dim': None, 'dense_dim_auxilliary_pos_2': None, 'auxilliary_task_norm_not_norm': True, 'weight_binary_loss': 1, 'auxilliary_task_norm_not_norm-dense_dim_2': None, 'auxilliary_task_pos': True, 'dense_dim_auxilliary_pos': 100}, 'extend_vocab_with_test': True, 'hidden_size_encoder': 100, 'n_trainable_parameters': 82695, 'lr_policy': 'lr_constant', 'hidden_size_sent_encoder': 20, 'voc_size': 57, 'symbolic_root': True, 'char_embedding_dim': 10, 'output_dim': 15, 'batch_size': 20, 'lr': 0.05, 'symbolic_end': True}, 'info_checkpoint': {'teacher_force': True, 'tasks_schedule_policy': None, 'dev_data_path': '/Users/bemuller/Documents/Work/INRIA/dev/mt_norm_parse/env/../../parsing/normpar/data/lexnorm.integrated.demo2', 'git_id': 'd77f3f3e608cad59d33b642633a355c4f5910c95', 'batch_size': 20, 'gradient_clipping': None, 'other': {'time_training(min)': '0.03', 'ponderation_normalize_loss': 1, 'seed(np/torch)': [123, 123], 'average_per_epoch(min)': '0.03', 'optim_strategy': 'lr_constant', 'weight_pos_loss': 0.01, 'lr': 0.05, 'extend_n_batch': 2, 'weight_binary_loss': 0.01, 'error_curves_details': '/Users/bemuller/Documents/Work/INRIA/dev/mt_norm_parse/env/../checkpoints/4e128-WARMUP-unrolling-False0-model_1-model_1_1660-folder/4e128-WARMUP-unrolling-False0-model_1-model_1_1660-details-last-plo-seq.png', 'data': 'dev', 'error_curves': '/Users/bemuller/Documents/Work/INRIA/dev/mt_norm_parse/env/../checkpoints/4e128-WARMUP-unrolling-False0-model_1-model_1_1660-folder/4e128-WARMUP-unrolling-False0-model_1-model_1_1660-last-plo-seq.png', 'loss': 1000}, 'n_epochs': 0, 'train_data_path': '/Users/bemuller/Documents/Work/INRIA/dev/mt_norm_parse/env/../../parsing/normpar/data/lexnorm.integrated.demo'}, 'checkpoint_dir': '/Users/bemuller/Documents/Work/INRIA/dev/mt_norm_parse/env/../checkpoints/4e128-WARMUP-unrolling-False0-model_1-model_1_1660-folder/4e128-WARMUP-unrolling-False0-model_1-model_1_1660-Xep-outof1ep-checkpoint.pt'} \n",
      "WARNING : BinaryPredictor as dense_dim is None no dense layer added to norm_not_norm predictor\n",
      "WARNING : stable_decoding_state is True\n",
      "WARNING : init_context_decoder is False\n",
      "WARNING : DECODER unrolling_word is True\n",
      "WARNING : DECODER char_src_attention is False\n",
      "INFO : dictionary is None so setting char_dictionary to model.char_dictionary\n",
      "Please type what you want to normalize word by word and finishes by 'stop' ? to end type : 'END'    ok\n",
      "Please type what you want to normalize word by word and finishes by 'stop' ? to end type : 'END'    whats\n",
      "Please type what you want to normalize word by word and finishes by 'stop' ? to end type : 'END'    up\n",
      "Please type what you want to normalize word by word and finishes by 'stop' ? to end type : 'END'    my\n",
      "Please type what you want to normalize word by word and finishes by 'stop' ? to end type : 'END'    friend\n",
      "Please type what you want to normalize word by word and finishes by 'stop' ? to end type : 'END'    stop\n",
      "sent ['ok', 'whats', 'up', 'my', 'friend', '']\n"
     ]
    },
    {
     "ename": "AttributeError",
     "evalue": "'NoneType' object has no attribute 'contiguous'",
     "output_type": "error",
     "traceback": [
      "\u001b[0;31m---------------------------------------------------------------------------\u001b[0m",
      "\u001b[0;31mAttributeError\u001b[0m                            Traceback (most recent call last)",
      "\u001b[0;32m<ipython-input-5-bc9f212e3400>\u001b[0m in \u001b[0;36m<module>\u001b[0;34m\u001b[0m\n\u001b[1;32m      7\u001b[0m     interact(dic_path=dic_path, dir_model=model_dir, model_full_name=model_full_name, debug=False, \n\u001b[1;32m      8\u001b[0m              \u001b[0mshow_attention\u001b[0m\u001b[0;34m=\u001b[0m\u001b[0;32mFalse\u001b[0m\u001b[0;34m,\u001b[0m\u001b[0mverbose\u001b[0m\u001b[0;34m=\u001b[0m\u001b[0;36m0\u001b[0m\u001b[0;34m,\u001b[0m\u001b[0;34m\u001b[0m\u001b[0m\n\u001b[0;32m----> 9\u001b[0;31m              save_attention=False)\n\u001b[0m\u001b[1;32m     10\u001b[0m     \u001b[0;31m#break\u001b[0m\u001b[0;34m\u001b[0m\u001b[0;34m\u001b[0m\u001b[0m\n",
      "\u001b[0;32m~/Documents/Work/INRIA/dev/mt_norm_parse/evaluate/interact.py\u001b[0m in \u001b[0;36minteract\u001b[0;34m(dic_path, model_full_name, dir_model, debug, model_specific_dictionary, beam_size, save_attention, show_attention, beam_decode, verbose)\u001b[0m\n\u001b[1;32m     44\u001b[0m                         \u001b[0mdir_attention\u001b[0m\u001b[0;34m=\u001b[0m\u001b[0mdir_attention\u001b[0m\u001b[0;34m,\u001b[0m \u001b[0msave_attention\u001b[0m\u001b[0;34m=\u001b[0m\u001b[0msave_attention\u001b[0m\u001b[0;34m,\u001b[0m \u001b[0mshow_attention\u001b[0m\u001b[0;34m=\u001b[0m\u001b[0;32mTrue\u001b[0m\u001b[0;34m,\u001b[0m\u001b[0;34m\u001b[0m\u001b[0m\n\u001b[1;32m     45\u001b[0m                         \u001b[0mbeam_decode\u001b[0m\u001b[0;34m=\u001b[0m\u001b[0mbeam_decode\u001b[0m\u001b[0;34m,\u001b[0m \u001b[0mbeam_size\u001b[0m\u001b[0;34m=\u001b[0m\u001b[0mbeam_size\u001b[0m\u001b[0;34m,\u001b[0m\u001b[0;34m\u001b[0m\u001b[0m\n\u001b[0;32m---> 46\u001b[0;31m                         verbose=verbose)\n\u001b[0m\u001b[1;32m     47\u001b[0m \u001b[0;32mimport\u001b[0m \u001b[0mio\u001b[0m\u001b[0;34m\u001b[0m\u001b[0m\n\u001b[1;32m     48\u001b[0m \u001b[0;32mimport\u001b[0m \u001b[0mtorchvision\u001b[0m\u001b[0;34m\u001b[0m\u001b[0m\n",
      "\u001b[0;32m~/Documents/Work/INRIA/dev/mt_norm_parse/model/sequence_prediction.py\u001b[0m in \u001b[0;36mdecode_interacively\u001b[0;34m(model, char_dictionary, max_len, pad, sent_mode, save_attention, show_attention, beam_decode, beam_size, dir_attention, verbose)\u001b[0m\n\u001b[1;32m    665\u001b[0m                 decode_seq_str(seq_string=sentence, model=model, char_dictionary=char_dictionary, pad=pad, max_len= max_len,\n\u001b[1;32m    666\u001b[0m                                \u001b[0mshow_att\u001b[0m\u001b[0;34m=\u001b[0m\u001b[0mshow_attention\u001b[0m\u001b[0;34m,\u001b[0m \u001b[0mbeam_decode\u001b[0m\u001b[0;34m=\u001b[0m\u001b[0mbeam_decode\u001b[0m\u001b[0;34m,\u001b[0m\u001b[0mbeam_size\u001b[0m\u001b[0;34m=\u001b[0m\u001b[0mbeam_size\u001b[0m\u001b[0;34m,\u001b[0m\u001b[0;34m\u001b[0m\u001b[0m\n\u001b[0;32m--> 667\u001b[0;31m                                verbose=verbose, sent_mode=True, dir_attention=dir_attention, save_attention=save_attention)\n\u001b[0m\u001b[1;32m    668\u001b[0m                 \u001b[0msentence\u001b[0m \u001b[0;34m=\u001b[0m \u001b[0;34m[\u001b[0m\u001b[0;34m]\u001b[0m\u001b[0;34m\u001b[0m\u001b[0m\n\u001b[1;32m    669\u001b[0m         \u001b[0;32melif\u001b[0m \u001b[0mseq_string\u001b[0m \u001b[0;34m==\u001b[0m \u001b[0;34m\"END\"\u001b[0m\u001b[0;34m:\u001b[0m\u001b[0;34m\u001b[0m\u001b[0m\n",
      "\u001b[0;32m~/Documents/Work/INRIA/dev/mt_norm_parse/model/sequence_prediction.py\u001b[0m in \u001b[0;36mdecode_seq_str\u001b[0;34m(seq_string, model, char_dictionary, pad, dir_attention, save_attention, show_att, beam_decode, beam_size, max_len, verbose, sent_mode)\u001b[0m\n\u001b[1;32m    629\u001b[0m                 = decode_sequence(model=model, char_dictionary=char_dictionary,\n\u001b[1;32m    630\u001b[0m                                   \u001b[0mmax_len\u001b[0m\u001b[0;34m=\u001b[0m\u001b[0mmax_len\u001b[0m\u001b[0;34m,\u001b[0m \u001b[0msrc_seq\u001b[0m\u001b[0;34m=\u001b[0m\u001b[0mbatch\u001b[0m\u001b[0;34m,\u001b[0m \u001b[0msrc_len\u001b[0m\u001b[0;34m=\u001b[0m\u001b[0mbatch_lens\u001b[0m\u001b[0;34m,\u001b[0m\u001b[0;34m\u001b[0m\u001b[0m\n\u001b[0;32m--> 631\u001b[0;31m                                   src_mask=batch_masks, single_sequence=True, pad=pad, verbose=verbose)\n\u001b[0m\u001b[1;32m    632\u001b[0m         \u001b[0;32mif\u001b[0m \u001b[0mattention\u001b[0m \u001b[0;32mis\u001b[0m \u001b[0;32mnot\u001b[0m \u001b[0;32mNone\u001b[0m\u001b[0;34m:\u001b[0m\u001b[0;34m\u001b[0m\u001b[0m\n\u001b[1;32m    633\u001b[0m             \u001b[0mprint\u001b[0m\u001b[0;34m(\u001b[0m\u001b[0;34m\"Attention\"\u001b[0m\u001b[0;34m,\u001b[0m \u001b[0mattention\u001b[0m\u001b[0;34m,\u001b[0m \u001b[0msrc_seq\u001b[0m\u001b[0;34m,\u001b[0m \u001b[0mtext_decoded\u001b[0m\u001b[0;34m)\u001b[0m\u001b[0;34m\u001b[0m\u001b[0m\n",
      "\u001b[0;32m~/Documents/Work/INRIA/dev/mt_norm_parse/model/sequence_prediction.py\u001b[0m in \u001b[0;36mdecode_sequence\u001b[0;34m(model, char_dictionary, max_len, src_seq, src_mask, src_len, pad, target_seq_gold, input_word, use_gpu, single_sequence, verbose)\u001b[0m\n\u001b[1;32m    512\u001b[0m                                                                                        \u001b[0minput_word_len\u001b[0m\u001b[0;34m=\u001b[0m\u001b[0msrc_len\u001b[0m\u001b[0;34m,\u001b[0m\u001b[0;34m\u001b[0m\u001b[0m\n\u001b[1;32m    513\u001b[0m                                                                                        \u001b[0moutput_word_len\u001b[0m\u001b[0;34m=\u001b[0m\u001b[0moutput_len\u001b[0m\u001b[0;34m,\u001b[0m\u001b[0;34m\u001b[0m\u001b[0m\n\u001b[0;32m--> 514\u001b[0;31m                                                                                        word_embed_input=input_word)\n\u001b[0m\u001b[1;32m    515\u001b[0m         \u001b[0;31m# [batch, seq_len, V]\u001b[0m\u001b[0;34m\u001b[0m\u001b[0;34m\u001b[0m\u001b[0m\n\u001b[1;32m    516\u001b[0m         \u001b[0mpred_norm_not_norm\u001b[0m \u001b[0;34m=\u001b[0m \u001b[0mnorm_not_norm\u001b[0m\u001b[0;34m.\u001b[0m\u001b[0margmax\u001b[0m\u001b[0;34m(\u001b[0m\u001b[0mdim\u001b[0m\u001b[0;34m=\u001b[0m\u001b[0;34m-\u001b[0m\u001b[0;36m1\u001b[0m\u001b[0;34m)\u001b[0m \u001b[0;32mif\u001b[0m \u001b[0mnorm_not_norm\u001b[0m \u001b[0;32mis\u001b[0m \u001b[0;32mnot\u001b[0m \u001b[0;32mNone\u001b[0m \u001b[0;32melse\u001b[0m \u001b[0;32mNone\u001b[0m\u001b[0;34m\u001b[0m\u001b[0m\n",
      "\u001b[0;32m~/Documents/Work/INRIA/dev/mt_norm_parse/model/seq2seq.py\u001b[0m in \u001b[0;36mforward\u001b[0;34m(self, input_seq, input_word_len, word_embed_input, output_word_len, output_seq, word_level_predict, proportion_pred_train)\u001b[0m\n\u001b[1;32m    360\u001b[0m \u001b[0;34m\u001b[0m\u001b[0m\n\u001b[1;32m    361\u001b[0m         \u001b[0;32mif\u001b[0m \u001b[0mself\u001b[0m\u001b[0;34m.\u001b[0m\u001b[0mword_embedding\u001b[0m \u001b[0;32mis\u001b[0m \u001b[0;32mnot\u001b[0m \u001b[0;32mNone\u001b[0m\u001b[0;34m:\u001b[0m\u001b[0;34m\u001b[0m\u001b[0m\n\u001b[0;32m--> 362\u001b[0;31m             \u001b[0mword_embed_input\u001b[0m \u001b[0;34m=\u001b[0m \u001b[0mself\u001b[0m\u001b[0;34m.\u001b[0m\u001b[0mword_embedding\u001b[0m\u001b[0;34m(\u001b[0m\u001b[0mword_embed_input\u001b[0m\u001b[0;34m)\u001b[0m\u001b[0;34m\u001b[0m\u001b[0m\n\u001b[0m\u001b[1;32m    363\u001b[0m             \u001b[0;32mif\u001b[0m \u001b[0mself\u001b[0m\u001b[0;34m.\u001b[0m\u001b[0mword_embedding_project\u001b[0m \u001b[0;32mis\u001b[0m \u001b[0;32mnot\u001b[0m \u001b[0;32mNone\u001b[0m\u001b[0;34m:\u001b[0m\u001b[0;34m\u001b[0m\u001b[0m\n\u001b[1;32m    364\u001b[0m                 \u001b[0mword_embed_input\u001b[0m \u001b[0;34m=\u001b[0m \u001b[0mself\u001b[0m\u001b[0;34m.\u001b[0m\u001b[0mword_embedding_project\u001b[0m\u001b[0;34m(\u001b[0m\u001b[0mword_embed_input\u001b[0m\u001b[0;34m)\u001b[0m\u001b[0;34m\u001b[0m\u001b[0m\n",
      "\u001b[0;32m~/anaconda3/envs/torch_env/lib/python3.5/site-packages/torch/nn/modules/module.py\u001b[0m in \u001b[0;36m__call__\u001b[0;34m(self, *input, **kwargs)\u001b[0m\n\u001b[1;32m    489\u001b[0m             \u001b[0mresult\u001b[0m \u001b[0;34m=\u001b[0m \u001b[0mself\u001b[0m\u001b[0;34m.\u001b[0m\u001b[0m_slow_forward\u001b[0m\u001b[0;34m(\u001b[0m\u001b[0;34m*\u001b[0m\u001b[0minput\u001b[0m\u001b[0;34m,\u001b[0m \u001b[0;34m**\u001b[0m\u001b[0mkwargs\u001b[0m\u001b[0;34m)\u001b[0m\u001b[0;34m\u001b[0m\u001b[0m\n\u001b[1;32m    490\u001b[0m         \u001b[0;32melse\u001b[0m\u001b[0;34m:\u001b[0m\u001b[0;34m\u001b[0m\u001b[0m\n\u001b[0;32m--> 491\u001b[0;31m             \u001b[0mresult\u001b[0m \u001b[0;34m=\u001b[0m \u001b[0mself\u001b[0m\u001b[0;34m.\u001b[0m\u001b[0mforward\u001b[0m\u001b[0;34m(\u001b[0m\u001b[0;34m*\u001b[0m\u001b[0minput\u001b[0m\u001b[0;34m,\u001b[0m \u001b[0;34m**\u001b[0m\u001b[0mkwargs\u001b[0m\u001b[0;34m)\u001b[0m\u001b[0;34m\u001b[0m\u001b[0m\n\u001b[0m\u001b[1;32m    492\u001b[0m         \u001b[0;32mfor\u001b[0m \u001b[0mhook\u001b[0m \u001b[0;32min\u001b[0m \u001b[0mself\u001b[0m\u001b[0;34m.\u001b[0m\u001b[0m_forward_hooks\u001b[0m\u001b[0;34m.\u001b[0m\u001b[0mvalues\u001b[0m\u001b[0;34m(\u001b[0m\u001b[0;34m)\u001b[0m\u001b[0;34m:\u001b[0m\u001b[0;34m\u001b[0m\u001b[0m\n\u001b[1;32m    493\u001b[0m             \u001b[0mhook_result\u001b[0m \u001b[0;34m=\u001b[0m \u001b[0mhook\u001b[0m\u001b[0;34m(\u001b[0m\u001b[0mself\u001b[0m\u001b[0;34m,\u001b[0m \u001b[0minput\u001b[0m\u001b[0;34m,\u001b[0m \u001b[0mresult\u001b[0m\u001b[0;34m)\u001b[0m\u001b[0;34m\u001b[0m\u001b[0m\n",
      "\u001b[0;32m~/anaconda3/envs/torch_env/lib/python3.5/site-packages/torch/nn/modules/sparse.py\u001b[0m in \u001b[0;36mforward\u001b[0;34m(self, input)\u001b[0m\n\u001b[1;32m    106\u001b[0m         return F.embedding(\n\u001b[1;32m    107\u001b[0m             \u001b[0minput\u001b[0m\u001b[0;34m,\u001b[0m \u001b[0mself\u001b[0m\u001b[0;34m.\u001b[0m\u001b[0mweight\u001b[0m\u001b[0;34m,\u001b[0m \u001b[0mself\u001b[0m\u001b[0;34m.\u001b[0m\u001b[0mpadding_idx\u001b[0m\u001b[0;34m,\u001b[0m \u001b[0mself\u001b[0m\u001b[0;34m.\u001b[0m\u001b[0mmax_norm\u001b[0m\u001b[0;34m,\u001b[0m\u001b[0;34m\u001b[0m\u001b[0m\n\u001b[0;32m--> 108\u001b[0;31m             self.norm_type, self.scale_grad_by_freq, self.sparse)\n\u001b[0m\u001b[1;32m    109\u001b[0m \u001b[0;34m\u001b[0m\u001b[0m\n\u001b[1;32m    110\u001b[0m     \u001b[0;32mdef\u001b[0m \u001b[0mextra_repr\u001b[0m\u001b[0;34m(\u001b[0m\u001b[0mself\u001b[0m\u001b[0;34m)\u001b[0m\u001b[0;34m:\u001b[0m\u001b[0;34m\u001b[0m\u001b[0m\n",
      "\u001b[0;32m~/anaconda3/envs/torch_env/lib/python3.5/site-packages/torch/nn/functional.py\u001b[0m in \u001b[0;36membedding\u001b[0;34m(input, weight, padding_idx, max_norm, norm_type, scale_grad_by_freq, sparse)\u001b[0m\n\u001b[1;32m   1062\u001b[0m                  [ 0.6262,  0.2438,  0.7471]]])\n\u001b[1;32m   1063\u001b[0m     \"\"\"\n\u001b[0;32m-> 1064\u001b[0;31m     \u001b[0minput\u001b[0m \u001b[0;34m=\u001b[0m \u001b[0minput\u001b[0m\u001b[0;34m.\u001b[0m\u001b[0mcontiguous\u001b[0m\u001b[0;34m(\u001b[0m\u001b[0;34m)\u001b[0m\u001b[0;34m\u001b[0m\u001b[0m\n\u001b[0m\u001b[1;32m   1065\u001b[0m     \u001b[0;32mif\u001b[0m \u001b[0mpadding_idx\u001b[0m \u001b[0;32mis\u001b[0m \u001b[0;32mnot\u001b[0m \u001b[0;32mNone\u001b[0m\u001b[0;34m:\u001b[0m\u001b[0;34m\u001b[0m\u001b[0m\n\u001b[1;32m   1066\u001b[0m         \u001b[0;32mif\u001b[0m \u001b[0mpadding_idx\u001b[0m \u001b[0;34m>\u001b[0m \u001b[0;36m0\u001b[0m\u001b[0;34m:\u001b[0m\u001b[0;34m\u001b[0m\u001b[0m\n",
      "\u001b[0;31mAttributeError\u001b[0m: 'NoneType' object has no attribute 'contiguous'"
     ]
    }
   ],
   "source": [
    "for folder_name in list_:\n",
    "    assert len(list_)>0, \"list empty\"\n",
    "    model_full_name = folder_name[:-7]\n",
    "    print(\"\\n\\n--------------------------------Interatcing with new model--------------------------------\\n\", model_full_name,\"\\n\\n\")\n",
    "    dic_path = os.path.join(script_dir, \"..\", \"checkpoints\", model_full_name + \"-folder\", \"dictionaries\")\n",
    "    model_dir = os.path.join(script_dir, \"..\", \"checkpoints\", model_full_name + \"-folder\")\n",
    "    interact(dic_path=dic_path, dir_model=model_dir, model_full_name=model_full_name, debug=False, \n",
    "             show_attention=False,verbose=0,\n",
    "             save_attention=False)\n",
    "    #break"
   ]
  },
  {
   "cell_type": "markdown",
   "metadata": {},
   "source": [
    "## Comments\n",
    "- on model 97077_rioc-ee386-REP_-replicate1-1dir-scale_1-model_15_f19e with auxilliary task no attention quite small model\n",
    "    - interesting case : \n",
    "        - my normalized to tomorrow : probably bcause of 2mor --> tommorow \n",
    "    - very lame at decoding very short word ? \n",
    "- 97147_rioc-6ed16-ATTCONTEXT-with_att-dir_2-X-dropout_bridge0.1-context_word-model_4_76a1\n",
    "    - attention is not static --> but no clear trend\n",
    "    - interetsintgly with same model but only using sent context : the attention focus on last word all the time \"97147_rioc-6ed16-ATTCONTEXT-with_att-dir_2-X-dropout_bridge0.1-context_sent-model_2_7d92\" \n",
    "    \n",
    "- \"97184_rioc-0cc46-ATTstandart_passing-with_att-dir_2-X-context_all-stable_decoding_state-init_context_decoder_False-model_4_2ffa\"\n",
    "    - the best model you played with so far\n",
    "    - classification does not agree with seq predictiion : most of the classification is NORMED while it performs some change"
   ]
  },
  {
   "cell_type": "code",
   "execution_count": null,
   "metadata": {},
   "outputs": [],
   "source": []
  },
  {
   "cell_type": "code",
   "execution_count": null,
   "metadata": {},
   "outputs": [],
   "source": []
  }
 ],
 "metadata": {
  "kernelspec": {
   "display_name": "Python 3",
   "language": "python",
   "name": "python3"
  },
  "language_info": {
   "codemirror_mode": {
    "name": "ipython",
    "version": 3
   },
   "file_extension": ".py",
   "mimetype": "text/x-python",
   "name": "python",
   "nbconvert_exporter": "python",
   "pygments_lexer": "ipython3",
   "version": "3.5.5"
  }
 },
 "nbformat": 4,
 "nbformat_minor": 2
}
