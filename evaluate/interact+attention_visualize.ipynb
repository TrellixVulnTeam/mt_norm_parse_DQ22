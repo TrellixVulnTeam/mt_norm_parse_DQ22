{
 "cells": [
  {
   "cell_type": "code",
   "execution_count": 91,
   "metadata": {},
   "outputs": [
    {
     "name": "stdout",
     "output_type": "stream",
     "text": [
      "The autoreload extension is already loaded. To reload it, use:\n",
      "  %reload_ext autoreload\n"
     ]
    }
   ],
   "source": [
    "%load_ext autoreload\n",
    "%autoreload 2\n",
    "%matplotlib inline  \n",
    "import sys\n",
    "sys.path.insert(0,\"..\")\n",
    "from model.sequence_prediction import greedy_decode_batch, decode_seq_str, decode_interacively\n",
    "import pdb\n",
    "from model.loss import LossCompute\n",
    "import os\n",
    "from io_.info_print import printing\n",
    "from model.seq2seq import LexNormalizer\n",
    "from model.generator import Generator\n",
    "from evaluate.interact import interact\n",
    "MAX_LEN = 20\n",
    "script_dir = \".\""
   ]
  },
  {
   "cell_type": "code",
   "execution_count": 112,
   "metadata": {},
   "outputs": [],
   "source": [
    "#model_folder_starts_with = \"f2f2-batchXdropout_char0.1-to_char_src-1_dir_sent-10_batch_size-model_18_aa04\"\n",
    "#model_folder_starts_with = \"f178-DROPOUT_EVEN_INCREASE-0.1-to_sent+word+bridge_out-model_3_046c\"\n",
    "#model_folder_starts_with = \"8ce6b-extend_ep-get_True-attention_simplifiedXauxXdropout0.1_scale_aux-True_aux-0.1do_char_dec-True_char_src_atten-model_14_ad6c\"\n",
    "#model_folder_starts_with = \"a5c77\"\n",
    "#model_folder_starts_with = \"fef8-new_data-batchXdropout_char0-to_char_src-1_dir_sent-10_batch_size-model_2_51a5\"\n",
    "#model_folder_starts_with = \"e3900-liu-attention+unrolling0.2-to_char_src-1_dir_sent-15_batch-dir_word_src_1-unrolling_word_True-char_src_attention_False-model_2_14c2\"\n",
    "#model_folder_starts_with = \"e3900-liu-attention+unrolling0.2-to_char_src-1_dir_sent-15_batch-dir_word_src_1-unrolling_word_True-char_src_attention_True-model_3_1a3\"\n",
    "#model_folder_starts_with =\"8ce6b\"\n",
    "#model_folder_starts_with = \"8e628\"\n",
    "#model_folder_starts_with = \"84736\"\n",
    "#model_folder_starts_with = \"84736-84736-SENT_context-get_True-attention_simplifiedXdrop_out_charXdir_word1dir_word-False_aux-0do_char_dec-True_char_src_atten-model_10_b59b\"\n",
    "model_folder_starts_with = \"84736-84736-SENT_context-get_True-attention_simplifiedXdrop_out_charXdir_word1dir_word-False_aux-0do_char_dec-False_char_src_atten-model_9_bb70\"\n",
    "#model_folder_starts_with = \"b9e49-aux_report+dense+ponderatipn+no_bucketing100-dense_dim_auxilliary0.001weight_binary_loss0.2-to_char_src-1_dir_sent-10_batch-dir_word_src_1-unrolling_word_True-char_src_attention_False-model_9_0f05\""
   ]
  },
  {
   "cell_type": "code",
   "execution_count": 113,
   "metadata": {},
   "outputs": [],
   "source": [
    "# list all models folder that starts with model_folder_starts_with\n",
    "list_all_dir = os.listdir(\"../checkpoints/\")\n",
    "list_ = [dir_ for dir_ in list_all_dir if dir_.startswith(model_folder_starts_with) and not dir_.endswith(\"log\") and not dir_.endswith(\"summary\")]"
   ]
  },
  {
   "cell_type": "markdown",
   "metadata": {},
   "source": [
    "### Model to interact with \n",
    "\n",
    "#### Former models : trained on Liu only , source added as concatanation of word and sentence level as h_0 of decoder , batch size = 10 , small drop out , \n",
    "\n",
    "- f2f2-batchXdropout_char0.1-to_char_src-1_dir_sent-10_batch_size-model_18_aa04 : very bad at interacting (NB ; pb of eval)\n",
    "- f178 also good model trained on liu only \n",
    "- 8e628 : attention ; no aux (no bucket , get_batch False ) :  - attention degrades abit the results (still feedin char embedding also)\n",
    "- e390 + same 24f94 goo : \n",
    "    - best is e3900-liu-attention+unrolling0.2-to_char_src-1_dir_sent-15_batch-dir_word_src_1-unrolling_word_True-char_src_attention_False-model_2_14c2 \n",
    "    - same with attentin but lame : e3900-liu-attention+unrolling0.2-to_char_src-1_dir_sent-15_batch-dir_word_src_1-unrolling_word_True-char_src_attention_True-model_3_1a3f (have to do some code for reloading and visulizing !)\n",
    "\n",
    "#### New data \n",
    "- fef8_new_data : \n",
    "- mixed data+ aix test :  8d9a0 + b9e49 to compare bucketing impact at train time \n",
    "    - /Users/bemuller/Documents/Work/INRIA/dev/mt_norm_parse/reports/aux_report+dense+ponderatipn+bucketing-last-report-data.html or file:///Users/bemuller/Documents/Work/INRIA/dev/mt_norm_parse/reports/aux_report+dense+ponderatipn+bucketing-last-report-norm.html\n",
    "    - /Users/bemuller/Documents/Work/INRIA/dev/mt_norm_parse/reports/aux_report+dense+ponderatipn+no_bucketing-last-report-data.html or file:///Users/bemuller/Documents/Work/INRIA/dev/mt_norm_parse/reports/8d9a0-auxiililary_true_false.html\n",
    "    \n",
    "    \n",
    "- Auxilliary tuning : best model : b9e49-aux_report+dense+ponderatipn+no_bucketing100-dense_dim_auxilliary0.001weight_binary_loss0.2-to_char_src-1_dir_sent-10_batch-dir_word_src_1-unrolling_word_True-char_src_attention_False-model_9_0f05-folderfile:///Users/bemuller/Documents/Work/INRIA/dev/mt_norm_parse/reports/aux_report+dense+ponderatipn+no_bucketing-last-report-enriched-auxilliary_task_norm_not_norm-dense_dim_view.html\n",
    "-\n",
    "\n",
    "#### Last two ablations with extending epoch + mix data + ablation on auxilliary task ponderation + attention or not  \n",
    "\n",
    "- 8ce6b-extend_ep... \n",
    "    - super lame attention model (from ablation with all context)\n",
    "    - the other one a bit better   \n",
    "- a5c77 a bit better but still : no attention much better : cf. plot \n",
    "\n",
    "#### Smaller model + liu only \n",
    "- 84736 smaller model: still waiting for models : attention not helping \n",
    "\n",
    "NB : attention makes training 10 times slower  "
   ]
  },
  {
   "cell_type": "code",
   "execution_count": 114,
   "metadata": {},
   "outputs": [],
   "source": [
    "#!open /Users/bemuller/Documents/Work/INRIA/dev/mt_norm_parse/reports/ablation_DROPOUT_analysis.html # f178\n",
    "#!open /Users/bemuller/Documents/Work/INRIA/dev/mt_norm_parse/reports/ablation_DROPOUT_analysis_norm_view.html #f178\n",
    "#!open /Users/bemuller/Documents/Work/INRIA/dev/mt_norm_parse/reports/ablation_DROPOUT_analysis_2.html # f178 + aaad \n",
    "\n",
    "#!open /Users/bemuller/Documents/Work/INRIA/dev/mt_norm_parse/reports/f2f2-batchXdropout_char-summary-norm_view.html\n",
    "#!open /Users/bemuller/Documents/Work/INRIA/dev/mt_norm_parse/reports/f2f2-batchXdropout_char-summary-data_view.html\n",
    "# -- \n",
    "#!open /Users/bemuller/Documents/Work/INRIA/dev/mt_norm_parse/reports/f2f2_best+01880_reproduction-VAL_TRUE.html\n",
    "##file:///Users/bemuller/Documents/Work/INRIA/dev/mt_norm_parse/reports/f2f2-iterate+new_data-norm_view.html (different results with below ? get_batch due ?? )\n",
    "##/Users/bemuller/Documents/Work/INRIA/dev/mt_norm_parse/reports/f2f2-batchXdropout_char-summary-norm_view.html \n",
    "## diffent from file:///Users/bemuller/Documents/Work/INRIA/dev/mt_norm_parse/reports/f2f2_best+01880_reproduction-VAL_TRUE.html val True \n",
    "#--\n",
    "\n",
    "#!open /Users/bemuller/Documents/Work/INRIA/dev/mt_norm_parse/reports/liu-attention+unrolling-more-param.html #e390\n",
    "#!open file:///Users/bemuller/Documents/Work/INRIA/dev/mt_norm_parse/reports/e390_best+24f9d-VAL_FALSE.html (e390 with Vale False 10 points above!! )\n",
    "\n",
    "#!open /Users/bemuller/Documents/Work/INRIA/dev/mt_norm_parse/reports/fef8_new_data.html (very good ?)\n",
    "\n",
    "#!open /Users/bemuller/Documents/Work/INRIA/dev/mt_norm_parse/reports/extend_ep-SENT_context-get_True-attention_simplifiedXauxXdropout-last+bucket_False_eval-get_batch_False.html\n",
    "\n",
    "#!open /Users/bemuller/Documents/Work/INRIA/dev/mt_norm_parse/reports/8ce6b-extend_ep-get_True-attention_simplifiedXauxXdropout.html\n",
    "\n",
    "#!open /Users/bemuller/Documents/Work/INRIA/dev/mt_norm_parse/reports/8e628-no_bucketing-get_batch_False-train-attention-last+bucket_False_eval-get_batch_False-report.json.html"
   ]
  },
  {
   "cell_type": "code",
   "execution_count": 115,
   "metadata": {
    "scrolled": false
   },
   "outputs": [
    {
     "name": "stdout",
     "output_type": "stream",
     "text": [
      "\n",
      "\n",
      "--------------------------------Interatcing with new model--------------------------------\n",
      " 84736-84736-SENT_context-get_True-attention_simplifiedXdrop_out_charXdir_word1dir_word-False_aux-0do_char_dec-False_char_src_atten-model_9_bb70 \n",
      "\n",
      "\n",
      "Loading dictionary from ./../checkpoints/84736-84736-SENT_context-get_True-attention_simplifiedXdrop_out_charXdir_word1dir_word-False_aux-0do_char_dec-False_char_src_atten-model_9_bb70-folder/dictionaries \n",
      "Character vocabulary is 109 length\n",
      "WARNING : checkpoint_dir as indicated in args.json is not found, lt checkpoint_dir /\n",
      "Loading model with argument {'decoder_arch': {'unrolling_word': True, 'drop_out_char_embedding_decoder': 0, 'attention': 'No', 'char_src_attention': False, 'drop_out_word_decoder_cell': 0.0, 'dir_word': 'uni', 'cell_sentence': 'none', 'cell_word': 'LSTM'}, 'n_trainable_parameters': 41999, 'output_dim': 50, 'voc_size': 109, 'encoder_arch': {'drop_out_sent_encoder_out': 0.0, 'attention': 'No', 'dir_word_encoder': 1, 'drop_out_word_encoder_out': 0.0, 'n_layers_word_encoder': 1, 'dropout_sent_encoder_cell': 0.0, 'dir_sent_encoder': 2, 'dir_word': 'uni', 'cell_sentence': 'LSTM', 'dropout_word_encoder_cell': 0.0, 'cell_word': 'LSTM'}, 'hidden_size_sent_encoder': 15, 'char_embedding_dim': 30, 'hidden_size_encoder': 40, 'auxilliary_arch': {'auxilliary_task_norm_not_norm': False, 'auxilliary_task_norm_not_norm-dense_dim': None, 'weight_binary_loss': 0}, 'hidden_size_decoder': 40, 'shared_context': 'sent'}\n",
      "Model arguments are {'hyperparameters': {'decoder_arch': {'unrolling_word': True, 'drop_out_char_embedding_decoder': 0, 'attention': 'No', 'char_src_attention': False, 'drop_out_word_decoder_cell': 0.0, 'dir_word': 'uni', 'cell_sentence': 'none', 'cell_word': 'LSTM'}, 'n_trainable_parameters': 41999, 'output_dim': 50, 'voc_size': 109, 'encoder_arch': {'drop_out_sent_encoder_out': 0.0, 'attention': 'No', 'dir_word_encoder': 1, 'drop_out_word_encoder_out': 0.0, 'n_layers_word_encoder': 1, 'dropout_sent_encoder_cell': 0.0, 'dir_sent_encoder': 2, 'dir_word': 'uni', 'cell_sentence': 'LSTM', 'dropout_word_encoder_cell': 0.0, 'cell_word': 'LSTM'}, 'hidden_size_sent_encoder': 15, 'char_embedding_dim': 30, 'hidden_size_encoder': 40, 'auxilliary_arch': {'auxilliary_task_norm_not_norm': False, 'auxilliary_task_norm_not_norm-dense_dim': None, 'weight_binary_loss': 0}, 'hidden_size_decoder': 40, 'shared_context': 'sent'}, 'info_checkpoint': {'batch_size': 2, 'git_id': '79d61a94f4c90f582a8791b24db8ec154834e3ae', 'dev_data_path': '/scratch/bemuller/mt_norm_parse/env/../../parsing/normpar/data/owoputi.integrated_fixed', 'train_data_path': '/scratch/bemuller/mt_norm_parse/env/.././data/LiLiu/2577_tweets-li.conll', 'other': {'time_training(min)': '45.20', 'seed(np/torch)': [123, 123], 'average_per_epoch(min)': '1.46', 'weight_binary_loss': 0, 'data': 'dev', 'loss': 0.010175148781473535, 'error_curves': '/scratch/bemuller/mt_norm_parse/env/../checkpoints/84736-84736-SENT_context-get_True-attention_simplifiedXdrop_out_charXdir_word1dir_word-False_aux-0do_char_dec-False_char_src_atten-model_9_bb70-folder/84736-84736-SENT_context-get_True-attention_simplifiedXdrop_out_charXdir_word1dir_word-False_aux-0do_char_dec-False_char_src_atten-model_9_bb70-last-plo-seq.png', 'error_curves_details': None, 'extend_n_batch': 2}, 'n_epochs': 15}, 'checkpoint_dir': '/scratch/bemuller/mt_norm_parse/env/../checkpoints/84736-84736-SENT_context-get_True-attention_simplifiedXdrop_out_charXdir_word1dir_word-False_aux-0do_char_dec-False_char_src_atten-model_9_bb70-folder/84736-84736-SENT_context-get_True-attention_simplifiedXdrop_out_charXdir_word1dir_word-False_aux-0do_char_dec-False_char_src_atten-model_9_bb70-Xep-outof31ep-checkpoint.pt'} \n",
      "WARNING : hidden_size of word_recurrent_cell has been divided by 1 dir_word_encoder\n",
      "WARNING : DECODER unrolling_word is True\n",
      "WARNING : DECODER char_src_attention is False\n",
      "INFO : dictionary is None so setting char_dictionary to model.char_dictionary\n",
      "Please type what you want to normalize word by word and finishes by 'stop' ? to end type : 'END'    yeah\n",
      "Please type what you want to normalize word by word and finishes by 'stop' ? to end type : 'END'    thankx\n",
      "Please type what you want to normalize word by word and finishes by 'stop' ? to end type : 'END'    stop\n",
      "sent ['yeah', 'thankx', '']\n",
      "WARNING : we added _START symbol and _END_CHAR ! \n",
      "WARNING : we added _START symbol and _END_CHAR ! \n",
      "DECODED text is : ['ard', 'Thaking'] original is ['yeah', 'thankx']\n",
      "Please type what you want to normalize word by word and finishes by 'stop' ? to end type : 'END'    yeah\n",
      "Please type what you want to normalize word by word and finishes by 'stop' ? to end type : 'END'    thanx\n",
      "Please type what you want to normalize word by word and finishes by 'stop' ? to end type : 'END'    stop\n",
      "sent ['yeah', 'thanx', '']\n",
      "WARNING : we added _START symbol and _END_CHAR ! \n",
      "WARNING : we added _START symbol and _END_CHAR ! \n",
      "DECODED text is : ['ared', 'Thanks'] original is ['yeah', 'thanx']\n",
      "Please type what you want to normalize word by word and finishes by 'stop' ? to end type : 'END'    Thanks\n",
      "Please type what you want to normalize word by word and finishes by 'stop' ? to end type : 'END'    stop\n",
      "sent ['Thanks', '']\n",
      "WARNING : we added _START symbol and _END_CHAR ! \n",
      "DECODED text is : ['Ghanking'] original is ['Thanks']\n",
      "Please type what you want to normalize word by word and finishes by 'stop' ? to end type : 'END'    END\n",
      "ENDING INTERACTION\n"
     ]
    }
   ],
   "source": [
    "for folder_name in list_:\n",
    "    assert len(list_)>0, \"list empty\"\n",
    "    model_full_name = folder_name[:-7]\n",
    "    print(\"\\n\\n--------------------------------Interatcing with new model--------------------------------\\n\", model_full_name,\"\\n\\n\")\n",
    "    dic_path = os.path.join(script_dir, \"..\", \"checkpoints\", model_full_name + \"-folder\", \"dictionaries\")\n",
    "    model_dir = os.path.join(script_dir, \"..\", \"checkpoints\", model_full_name + \"-folder\")\n",
    "    interact(dic_path=dic_path, dir_model=model_dir, model_full_name=model_full_name, debug=False, \n",
    "             show_attention=False,verbose=0,\n",
    "             save_attention=False)\n",
    "    #break"
   ]
  },
  {
   "cell_type": "code",
   "execution_count": null,
   "metadata": {},
   "outputs": [],
   "source": []
  }
 ],
 "metadata": {
  "kernelspec": {
   "display_name": "Python 3",
   "language": "python",
   "name": "python3"
  },
  "language_info": {
   "codemirror_mode": {
    "name": "ipython",
    "version": 3
   },
   "file_extension": ".py",
   "mimetype": "text/x-python",
   "name": "python",
   "nbconvert_exporter": "python",
   "pygments_lexer": "ipython3",
   "version": "3.5.5"
  }
 },
 "nbformat": 4,
 "nbformat_minor": 2
}
